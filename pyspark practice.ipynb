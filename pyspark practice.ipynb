{
  "cells": [
    {
      "cell_type": "code",
      "source": [
        "#Varibales for Code\n",
        "data = [\n",
        "(\"AMD\", \"COK\", \"2024-02-24 08:00:00\", \"2024-02-24 10:30:00\", \"2024-02-24 08:50:00\", \"2024-02-24 11:25:00\", \"Akasa Air\", \"airTraffic\"),\n",
        "(\"COK\", \"SXR\", \"2024-02-25 12:00:00\", \"2024-02-25 18:30:00\", \"2024-02-25 12:15:00\", \"2024-02-25 19:15:00\", \"Vistara\", \"mechanical\"),\n",
        "(\"COK\", \"AMD\", \"2024-03-24 08:00:00\", \"2024-03-24 10:40:00\", \"2024-03-24 08:17:00\", \"2024-03-24 11:00:00\", \"Akasa Air\", \"storm\"),\n",
        "(\"SXR\", \"AMD\", \"2024-04-28 05:30:00\", \"2024-04-28 07:35:00\", \"2024-04-28 05:50:00\", \"2024-04-28 07:55:00\", \"Vistara\", \"visibility\"),\n",
        "(\"AMD\", \"SXR\", \"2024-07-25 07:00:00\", \"2024-07-25 09:10:00\", \"2024-07-25 07:10:00\", \"2024-07-25 09:20:00\", \"Akasa Air\", \"airTraffic\"),\n",
        "(\"AMD\", \"CCU\", \"2024-03-28 18:00:00\", \"2024-03-28 20:25:00\", \"2024-03-28 19:00:00\", \"2024-03-28 21:15:00\", \"Vistara\", \"storm\"),\n",
        "(\"SXR\", \"COK\", \"2024-06-28 23:00:00\", \"2024-06-29 04:40:00\", \"2024-06-28 23:40:00\", \"2024-06-29 05:20:00\", \"Vistara\", \"airTraffic\"),\n",
        "(\"COK\", \"CCU\", \"2024-06-24 18:00:00\", \"2024-06-24 21:05:00\", \"2024-06-24 18:05:00\", \"2024-06-24 21:25:00\", \"IndiGo\", \"visibility\"),\n",
        "(\"CCU\", \"AMD\", \"2024-07-25 04:00:00\", \"2024-07-25 06:45:00\", \"2024-07-25 04:30:00\", \"2024-07-25 07:05:00\", \"IndiGo\", \"airTraffic\"),\n",
        "(\"CCU\", \"COK\", \"2024-02-28 14:00:00\", \"2024-02-28 17:10:00\", \"2024-02-28 14:10:00\", \"2024-02-28 17:40:00\", \"IndiGo\", \"mechanical\"),\n",
        "(\"CCU\", \"SXR\", \"2024-04-21 17:00:00\", \"2024-04-21 19:50:00\", \"2024-04-21 17:30:00\", \"2024-04-21 20:05:00\", \"IndiGo\", \"airTraffic\")\n",
        "]"
      ],
      "metadata": {
        "id": "ukcwg29Z00ay"
      },
      "execution_count": 1,
      "outputs": []
    },
    {
      "cell_type": "code",
      "source": [
        "#Schema to be imposed\n",
        "schm = (\"origin_airport\", \"destination_airport\", \"scheduled_departure_time\", \"scheduled_arrival_time\", \"actual_departure_time\", \"actual_arrival_time\", \"carrier\", \"delay_reason\")"
      ],
      "metadata": {
        "id": "pvKMgmka00cG"
      },
      "execution_count": 2,
      "outputs": []
    },
    {
      "cell_type": "code",
      "source": [
        "pip install pyspark"
      ],
      "metadata": {
        "id": "y_kjVPa-00dR",
        "outputId": "68d6aa75-e8aa-4b6f-b9d9-70079c55b613",
        "colab": {
          "base_uri": "https://localhost:8080/"
        }
      },
      "execution_count": 3,
      "outputs": [
        {
          "output_type": "stream",
          "name": "stdout",
          "text": [
            "Collecting pyspark\n",
            "  Downloading pyspark-3.5.1.tar.gz (317.0 MB)\n",
            "\u001b[2K     \u001b[90m━━━━━━━━━━━━━━━━━━━━━━━━━━━━━━━━━━━━━━━━\u001b[0m \u001b[32m317.0/317.0 MB\u001b[0m \u001b[31m2.7 MB/s\u001b[0m eta \u001b[36m0:00:00\u001b[0m\n",
            "\u001b[?25h  Preparing metadata (setup.py) ... \u001b[?25l\u001b[?25hdone\n",
            "Requirement already satisfied: py4j==0.10.9.7 in /usr/local/lib/python3.10/dist-packages (from pyspark) (0.10.9.7)\n",
            "Building wheels for collected packages: pyspark\n",
            "  Building wheel for pyspark (setup.py) ... \u001b[?25l\u001b[?25hdone\n",
            "  Created wheel for pyspark: filename=pyspark-3.5.1-py2.py3-none-any.whl size=317488490 sha256=e53776193a1f5bfdb32d96fccd2a4b2bfb849eb06023be55e1af0afdc3fcfa0c\n",
            "  Stored in directory: /root/.cache/pip/wheels/80/1d/60/2c256ed38dddce2fdd93be545214a63e02fbd8d74fb0b7f3a6\n",
            "Successfully built pyspark\n",
            "Installing collected packages: pyspark\n",
            "Successfully installed pyspark-3.5.1\n"
          ]
        }
      ]
    },
    {
      "cell_type": "code",
      "source": [
        "from pyspark.sql import SparkSession\n",
        "from pyspark.sql.functions import *"
      ],
      "metadata": {
        "id": "Qd_G1PIH00ed"
      },
      "execution_count": 4,
      "outputs": []
    },
    {
      "cell_type": "code",
      "source": [
        "#Create a SparkSession\n",
        "s1 = SparkSession.builder.appName('pyspark').getOrCreate()"
      ],
      "metadata": {
        "id": "MjsLM1sP00fr"
      },
      "execution_count": 5,
      "outputs": []
    },
    {
      "cell_type": "code",
      "source": [
        "#Create dataframe for the given data using enforced Schema method\n",
        "df = s1.createDataFrame(data,schema = schm)"
      ],
      "metadata": {
        "id": "NsMy-0PI00-l"
      },
      "execution_count": 6,
      "outputs": []
    },
    {
      "cell_type": "code",
      "source": [
        "df.show()"
      ],
      "metadata": {
        "id": "xqxlV5p_01E1",
        "outputId": "d887888b-707c-48fc-af25-57f3c3d324f9",
        "colab": {
          "base_uri": "https://localhost:8080/"
        }
      },
      "execution_count": 7,
      "outputs": [
        {
          "output_type": "stream",
          "name": "stdout",
          "text": [
            "+--------------+-------------------+------------------------+----------------------+---------------------+-------------------+---------+------------+\n",
            "|origin_airport|destination_airport|scheduled_departure_time|scheduled_arrival_time|actual_departure_time|actual_arrival_time|  carrier|delay_reason|\n",
            "+--------------+-------------------+------------------------+----------------------+---------------------+-------------------+---------+------------+\n",
            "|           AMD|                COK|     2024-02-24 08:00:00|   2024-02-24 10:30:00|  2024-02-24 08:50:00|2024-02-24 11:25:00|Akasa Air|  airTraffic|\n",
            "|           COK|                SXR|     2024-02-25 12:00:00|   2024-02-25 18:30:00|  2024-02-25 12:15:00|2024-02-25 19:15:00|  Vistara|  mechanical|\n",
            "|           COK|                AMD|     2024-03-24 08:00:00|   2024-03-24 10:40:00|  2024-03-24 08:17:00|2024-03-24 11:00:00|Akasa Air|       storm|\n",
            "|           SXR|                AMD|     2024-04-28 05:30:00|   2024-04-28 07:35:00|  2024-04-28 05:50:00|2024-04-28 07:55:00|  Vistara|  visibility|\n",
            "|           AMD|                SXR|     2024-07-25 07:00:00|   2024-07-25 09:10:00|  2024-07-25 07:10:00|2024-07-25 09:20:00|Akasa Air|  airTraffic|\n",
            "|           AMD|                CCU|     2024-03-28 18:00:00|   2024-03-28 20:25:00|  2024-03-28 19:00:00|2024-03-28 21:15:00|  Vistara|       storm|\n",
            "|           SXR|                COK|     2024-06-28 23:00:00|   2024-06-29 04:40:00|  2024-06-28 23:40:00|2024-06-29 05:20:00|  Vistara|  airTraffic|\n",
            "|           COK|                CCU|     2024-06-24 18:00:00|   2024-06-24 21:05:00|  2024-06-24 18:05:00|2024-06-24 21:25:00|   IndiGo|  visibility|\n",
            "|           CCU|                AMD|     2024-07-25 04:00:00|   2024-07-25 06:45:00|  2024-07-25 04:30:00|2024-07-25 07:05:00|   IndiGo|  airTraffic|\n",
            "|           CCU|                COK|     2024-02-28 14:00:00|   2024-02-28 17:10:00|  2024-02-28 14:10:00|2024-02-28 17:40:00|   IndiGo|  mechanical|\n",
            "|           CCU|                SXR|     2024-04-21 17:00:00|   2024-04-21 19:50:00|  2024-04-21 17:30:00|2024-04-21 20:05:00|   IndiGo|  airTraffic|\n",
            "+--------------+-------------------+------------------------+----------------------+---------------------+-------------------+---------+------------+\n",
            "\n"
          ]
        }
      ]
    },
    {
      "cell_type": "code",
      "source": [
        "#Filter the dataframe to display all delayed flights\n",
        "df1 = df.withColumn('delay_departure',(unix_timestamp('actual_departure_time') - unix_timestamp('scheduled_departure_time')) / 60)\n",
        "df1.where(col('delay_departure') > 0).show()"
      ],
      "metadata": {
        "id": "SyYIjU5q01HG",
        "outputId": "9e82e602-0c54-4a82-e44a-07e136c39d40",
        "colab": {
          "base_uri": "https://localhost:8080/"
        }
      },
      "execution_count": 8,
      "outputs": [
        {
          "output_type": "stream",
          "name": "stdout",
          "text": [
            "+--------------+-------------------+------------------------+----------------------+---------------------+-------------------+---------+------------+---------------+\n",
            "|origin_airport|destination_airport|scheduled_departure_time|scheduled_arrival_time|actual_departure_time|actual_arrival_time|  carrier|delay_reason|delay_departure|\n",
            "+--------------+-------------------+------------------------+----------------------+---------------------+-------------------+---------+------------+---------------+\n",
            "|           AMD|                COK|     2024-02-24 08:00:00|   2024-02-24 10:30:00|  2024-02-24 08:50:00|2024-02-24 11:25:00|Akasa Air|  airTraffic|           50.0|\n",
            "|           COK|                SXR|     2024-02-25 12:00:00|   2024-02-25 18:30:00|  2024-02-25 12:15:00|2024-02-25 19:15:00|  Vistara|  mechanical|           15.0|\n",
            "|           COK|                AMD|     2024-03-24 08:00:00|   2024-03-24 10:40:00|  2024-03-24 08:17:00|2024-03-24 11:00:00|Akasa Air|       storm|           17.0|\n",
            "|           SXR|                AMD|     2024-04-28 05:30:00|   2024-04-28 07:35:00|  2024-04-28 05:50:00|2024-04-28 07:55:00|  Vistara|  visibility|           20.0|\n",
            "|           AMD|                SXR|     2024-07-25 07:00:00|   2024-07-25 09:10:00|  2024-07-25 07:10:00|2024-07-25 09:20:00|Akasa Air|  airTraffic|           10.0|\n",
            "|           AMD|                CCU|     2024-03-28 18:00:00|   2024-03-28 20:25:00|  2024-03-28 19:00:00|2024-03-28 21:15:00|  Vistara|       storm|           60.0|\n",
            "|           SXR|                COK|     2024-06-28 23:00:00|   2024-06-29 04:40:00|  2024-06-28 23:40:00|2024-06-29 05:20:00|  Vistara|  airTraffic|           40.0|\n",
            "|           COK|                CCU|     2024-06-24 18:00:00|   2024-06-24 21:05:00|  2024-06-24 18:05:00|2024-06-24 21:25:00|   IndiGo|  visibility|            5.0|\n",
            "|           CCU|                AMD|     2024-07-25 04:00:00|   2024-07-25 06:45:00|  2024-07-25 04:30:00|2024-07-25 07:05:00|   IndiGo|  airTraffic|           30.0|\n",
            "|           CCU|                COK|     2024-02-28 14:00:00|   2024-02-28 17:10:00|  2024-02-28 14:10:00|2024-02-28 17:40:00|   IndiGo|  mechanical|           10.0|\n",
            "|           CCU|                SXR|     2024-04-21 17:00:00|   2024-04-21 19:50:00|  2024-04-21 17:30:00|2024-04-21 20:05:00|   IndiGo|  airTraffic|           30.0|\n",
            "+--------------+-------------------+------------------------+----------------------+---------------------+-------------------+---------+------------+---------------+\n",
            "\n"
          ]
        }
      ]
    },
    {
      "cell_type": "code",
      "source": [
        "#Calculate Average delay per source airport\n",
        "df1.groupBy('origin_airport').agg({'delay_departure':'avg'}).show()"
      ],
      "metadata": {
        "id": "vLgaO0uO01NC",
        "outputId": "f13a94a3-d0ee-43dc-aa0d-40926ba59232",
        "colab": {
          "base_uri": "https://localhost:8080/"
        }
      },
      "execution_count": 9,
      "outputs": [
        {
          "output_type": "stream",
          "name": "stdout",
          "text": [
            "+--------------+--------------------+\n",
            "|origin_airport|avg(delay_departure)|\n",
            "+--------------+--------------------+\n",
            "|           SXR|                30.0|\n",
            "|           AMD|                40.0|\n",
            "|           COK|  12.333333333333334|\n",
            "|           CCU|  23.333333333333332|\n",
            "+--------------+--------------------+\n",
            "\n"
          ]
        }
      ]
    },
    {
      "cell_type": "code",
      "source": [
        "##Calculate Average delay per destination airport\n",
        "df1.groupBy('destination_airport').agg({'delay_departure':'avg'}).show()"
      ],
      "metadata": {
        "id": "swQ6-l0O01PH",
        "outputId": "93e785fb-494c-4d22-f86f-801aa3f31bb9",
        "colab": {
          "base_uri": "https://localhost:8080/"
        }
      },
      "execution_count": 10,
      "outputs": [
        {
          "output_type": "stream",
          "name": "stdout",
          "text": [
            "+-------------------+--------------------+\n",
            "|destination_airport|avg(delay_departure)|\n",
            "+-------------------+--------------------+\n",
            "|                SXR|  18.333333333333332|\n",
            "|                AMD|  22.333333333333332|\n",
            "|                COK|  33.333333333333336|\n",
            "|                CCU|                32.5|\n",
            "+-------------------+--------------------+\n",
            "\n"
          ]
        }
      ]
    },
    {
      "cell_type": "code",
      "source": [
        "#Calculate Average delay per airline\n",
        "df1.groupBy('carrier').agg({'delay_departure':'avg'}).show()"
      ],
      "metadata": {
        "id": "s5hGhUY_01RO",
        "outputId": "08d17e8c-da41-41bb-988d-0a4d171d9455",
        "colab": {
          "base_uri": "https://localhost:8080/"
        }
      },
      "execution_count": 11,
      "outputs": [
        {
          "output_type": "stream",
          "name": "stdout",
          "text": [
            "+---------+--------------------+\n",
            "|  carrier|avg(delay_departure)|\n",
            "+---------+--------------------+\n",
            "|Akasa Air|  25.666666666666668|\n",
            "|  Vistara|               33.75|\n",
            "|   IndiGo|               18.75|\n",
            "+---------+--------------------+\n",
            "\n"
          ]
        }
      ]
    },
    {
      "cell_type": "code",
      "source": [
        "#Fetch airline with maximum delay (in single flight)\n",
        "df1.groupBy('carrier').agg({'delay_departure':'max'}).orderBy(max('delay_departure').desc()).limit(1).show()"
      ],
      "metadata": {
        "id": "3wBfh2qj01S8",
        "outputId": "11cde58c-93dc-4629-ad20-461ac6d00598",
        "colab": {
          "base_uri": "https://localhost:8080/"
        }
      },
      "execution_count": 12,
      "outputs": [
        {
          "output_type": "stream",
          "name": "stdout",
          "text": [
            "+-------+--------------------+\n",
            "|carrier|max(delay_departure)|\n",
            "+-------+--------------------+\n",
            "|Vistara|                60.0|\n",
            "+-------+--------------------+\n",
            "\n"
          ]
        }
      ]
    },
    {
      "cell_type": "code",
      "source": [
        "#Fetch airline with maximum delay (overall time delay)\n",
        "df1.groupBy('carrier').agg({'delay_departure':'sum'}).orderBy(sum('delay_departure').desc()).limit(1).show()"
      ],
      "metadata": {
        "id": "UeMwW5Be01VF",
        "outputId": "5b796aa1-494e-42e3-fcd4-8c3af635f852",
        "colab": {
          "base_uri": "https://localhost:8080/"
        }
      },
      "execution_count": 13,
      "outputs": [
        {
          "output_type": "stream",
          "name": "stdout",
          "text": [
            "+-------+--------------------+\n",
            "|carrier|sum(delay_departure)|\n",
            "+-------+--------------------+\n",
            "|Vistara|               135.0|\n",
            "+-------+--------------------+\n",
            "\n"
          ]
        }
      ]
    },
    {
      "cell_type": "code",
      "source": [
        "#Fetch airline with minimum delay (in single flight)\n",
        "df1.groupBy('carrier').agg({'delay_departure':'min'}).orderBy(min('delay_departure')).limit(1).show()"
      ],
      "metadata": {
        "id": "G2Ss6DJE01W3",
        "outputId": "39448cba-8809-4df4-9dee-d5f9b026b183",
        "colab": {
          "base_uri": "https://localhost:8080/"
        }
      },
      "execution_count": 14,
      "outputs": [
        {
          "output_type": "stream",
          "name": "stdout",
          "text": [
            "+-------+--------------------+\n",
            "|carrier|min(delay_departure)|\n",
            "+-------+--------------------+\n",
            "| IndiGo|                 5.0|\n",
            "+-------+--------------------+\n",
            "\n"
          ]
        }
      ]
    },
    {
      "cell_type": "code",
      "source": [
        "#Fetch airline with minimum delay (overall time delay)\n",
        "df1.groupBy('carrier').agg({'delay_departure':'sum'}).orderBy(sum('delay_departure')).limit(1).show()"
      ],
      "metadata": {
        "id": "vMoyL1nw01aQ",
        "outputId": "ed9da8b8-4328-4d70-da6a-a484451f79f3",
        "colab": {
          "base_uri": "https://localhost:8080/"
        }
      },
      "execution_count": 15,
      "outputs": [
        {
          "output_type": "stream",
          "name": "stdout",
          "text": [
            "+-------+--------------------+\n",
            "|carrier|sum(delay_departure)|\n",
            "+-------+--------------------+\n",
            "| IndiGo|                75.0|\n",
            "+-------+--------------------+\n",
            "\n"
          ]
        }
      ]
    },
    {
      "cell_type": "code",
      "source": [
        "#Calculate Average delay per reason\n",
        "df1.groupBy('delay_reason').agg({'delay_departure':'avg'}).show()"
      ],
      "metadata": {
        "id": "FZ9I1GjrVnDf",
        "outputId": "1773ae75-cd91-4fcb-e9c1-07b65415a594",
        "colab": {
          "base_uri": "https://localhost:8080/"
        }
      },
      "execution_count": 16,
      "outputs": [
        {
          "output_type": "stream",
          "name": "stdout",
          "text": [
            "+------------+--------------------+\n",
            "|delay_reason|avg(delay_departure)|\n",
            "+------------+--------------------+\n",
            "|  visibility|                12.5|\n",
            "|  airTraffic|                32.0|\n",
            "|       storm|                38.5|\n",
            "|  mechanical|                12.5|\n",
            "+------------+--------------------+\n",
            "\n"
          ]
        }
      ]
    },
    {
      "cell_type": "code",
      "source": [
        "#Find most recurring cause of delays\n",
        "df1.groupBy('delay_reason').agg({'delay_reason':'count'}).orderBy(count('delay_reason').desc()).limit(1).show()"
      ],
      "metadata": {
        "id": "ViHSquUCVnFm",
        "outputId": "9678ac9a-b209-4977-9b10-86b774adb942",
        "colab": {
          "base_uri": "https://localhost:8080/"
        }
      },
      "execution_count": 17,
      "outputs": [
        {
          "output_type": "stream",
          "name": "stdout",
          "text": [
            "+------------+-------------------+\n",
            "|delay_reason|count(delay_reason)|\n",
            "+------------+-------------------+\n",
            "|  airTraffic|                  5|\n",
            "+------------+-------------------+\n",
            "\n"
          ]
        }
      ]
    },
    {
      "cell_type": "code",
      "source": [
        "#Identify the airline with best recovery time\n",
        "# (Even though the flight started late, the airline recovered a few minutes in flight time)\n",
        "df1 = df1.withColumn('delay_arrival',(unix_timestamp('actual_arrival_time') - unix_timestamp('scheduled_arrival_time')) / 60)\n",
        "df1.where(col('delay_arrival') < col('delay_departure')).show()\n"
      ],
      "metadata": {
        "id": "OWR9jnYyVnHr",
        "outputId": "a85039ec-5bcd-4410-8002-83ca1dd268a2",
        "colab": {
          "base_uri": "https://localhost:8080/"
        }
      },
      "execution_count": 24,
      "outputs": [
        {
          "output_type": "stream",
          "name": "stdout",
          "text": [
            "+--------------+-------------------+------------------------+----------------------+---------------------+-------------------+-------+------------+---------------+-------------+\n",
            "|origin_airport|destination_airport|scheduled_departure_time|scheduled_arrival_time|actual_departure_time|actual_arrival_time|carrier|delay_reason|delay_departure|delay_arrival|\n",
            "+--------------+-------------------+------------------------+----------------------+---------------------+-------------------+-------+------------+---------------+-------------+\n",
            "|           AMD|                CCU|     2024-03-28 18:00:00|   2024-03-28 20:25:00|  2024-03-28 19:00:00|2024-03-28 21:15:00|Vistara|       storm|           60.0|         50.0|\n",
            "|           CCU|                AMD|     2024-07-25 04:00:00|   2024-07-25 06:45:00|  2024-07-25 04:30:00|2024-07-25 07:05:00| IndiGo|  airTraffic|           30.0|         20.0|\n",
            "|           CCU|                SXR|     2024-04-21 17:00:00|   2024-04-21 19:50:00|  2024-04-21 17:30:00|2024-04-21 20:05:00| IndiGo|  airTraffic|           30.0|         15.0|\n",
            "+--------------+-------------------+------------------------+----------------------+---------------------+-------------------+-------+------------+---------------+-------------+\n",
            "\n"
          ]
        }
      ]
    },
    {
      "cell_type": "code",
      "source": [],
      "metadata": {
        "id": "HUo1RftoVnLW"
      },
      "execution_count": 23,
      "outputs": []
    },
    {
      "cell_type": "code",
      "source": [],
      "metadata": {
        "id": "S67DJG2PyCSH"
      },
      "execution_count": null,
      "outputs": []
    }
  ],
  "metadata": {
    "colab": {
      "name": "Welcome To Colab",
      "provenance": []
    },
    "kernelspec": {
      "display_name": "Python 3",
      "name": "python3"
    }
  },
  "nbformat": 4,
  "nbformat_minor": 0
}