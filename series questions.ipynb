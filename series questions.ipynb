{
  "cells": [
    {
      "cell_type": "code",
      "source": [
        "pip install pyspark"
      ],
      "metadata": {
        "id": "uq2iJPSF2J3S",
        "outputId": "15ed4283-f158-4354-9e70-8210669f88a2",
        "colab": {
          "base_uri": "https://localhost:8080/"
        }
      },
      "execution_count": 1,
      "outputs": [
        {
          "output_type": "stream",
          "name": "stdout",
          "text": [
            "Collecting pyspark\n",
            "  Downloading pyspark-3.5.1.tar.gz (317.0 MB)\n",
            "\u001b[2K     \u001b[90m━━━━━━━━━━━━━━━━━━━━━━━━━━━━━━━━━━━━━━━━\u001b[0m \u001b[32m317.0/317.0 MB\u001b[0m \u001b[31m3.6 MB/s\u001b[0m eta \u001b[36m0:00:00\u001b[0m\n",
            "\u001b[?25h  Preparing metadata (setup.py) ... \u001b[?25l\u001b[?25hdone\n",
            "Requirement already satisfied: py4j==0.10.9.7 in /usr/local/lib/python3.10/dist-packages (from pyspark) (0.10.9.7)\n",
            "Building wheels for collected packages: pyspark\n",
            "  Building wheel for pyspark (setup.py) ... \u001b[?25l\u001b[?25hdone\n",
            "  Created wheel for pyspark: filename=pyspark-3.5.1-py2.py3-none-any.whl size=317488490 sha256=d3fd56c5dab1f86fa1c2e1705bf73c0a01e1210d08aea2592bdaf642c5a75749\n",
            "  Stored in directory: /root/.cache/pip/wheels/80/1d/60/2c256ed38dddce2fdd93be545214a63e02fbd8d74fb0b7f3a6\n",
            "Successfully built pyspark\n",
            "Installing collected packages: pyspark\n",
            "Successfully installed pyspark-3.5.1\n"
          ]
        }
      ]
    },
    {
      "cell_type": "code",
      "source": [
        "from pyspark.sql import SparkSession\n",
        "from pyspark.sql.functions import *"
      ],
      "metadata": {
        "id": "g-X9iDBQ2KDT"
      },
      "execution_count": 2,
      "outputs": []
    },
    {
      "cell_type": "code",
      "source": [
        "#user_data\n",
        "data = [\n",
        "(521,'Mirzapur',3,'2024-07-30 15:00:00','action',300),\n",
        "(672,'Panchayat',3,'2024-07-30 15:00:00','comedy',200),\n",
        "(197,'Family Man',2,'2024-07-30 15:00:00','action',500),\n",
        "(521,'Mirzapur',2,'2024-07-29 15:00:00','action',280),\n",
        "(211,'Queens Gambit',1,'2024-07-30 15:00:00','drama',170),\n",
        "(521,'Mirzapur',1,'2024-07-28 15:00:00','action',230),\n",
        "(844,'Westworld',3,'2024-07-30 15:00:00','sci-fi',310),\n",
        "(672,'Panchayat',3,'2024-07-29 15:00:00','comedy',210),\n",
        "(256,'Homecoming',2,'2024-07-30 15:00:00','thriller',310),\n",
        "(489,'Outer Range',1,'2024-07-30 15:00:00','sci-fi',340),\n",
        "(200,'Black Mirror',2,'2024-07-30 15:00:00','sci-fi',140),\n",
        "(256,'Outer Range',2,'2024-07-30 15:00:00','thriller',250),\n",
        "(489,'Outer Range',2,'2024-07-28 15:00:00','sci-fi',170),\n",
        "(200,'Black Mirror',3,'2024-07-29 15:00:00','sci-fi',190),\n",
        "(672,'Panchayat',2,'2024-07-28 15:00:00','comedy',160),\n",
        "(672,'Outer Range',1,'2024-07-25 15:00:00','sci-fi',250),\n",
        "(200,'Black Mirror',4,'2024-07-28 15:00:00','sci-fi',200),\n",
        "(844,'Westworld',2,'2024-07-29 15:00:00','sci-fi',300),\n",
        "(672,'Black Mirror',5,'2024-07-28 15:00:00','sci-fi',150),\n",
        "(672,'Panchayat',1,'2024-07-27 15:00:00','comedy',190)\n",
        "]"
      ],
      "metadata": {
        "id": "vGFxDfYE2KIy"
      },
      "execution_count": 9,
      "outputs": []
    },
    {
      "cell_type": "code",
      "source": [
        "schema = ['user_id','series','season','timestamp','genre','duration_mins']"
      ],
      "metadata": {
        "id": "5YV50urW2KNB"
      },
      "execution_count": 10,
      "outputs": []
    },
    {
      "cell_type": "code",
      "source": [
        "s1 = SparkSession.builder.appName('Streaming Analysis').getOrCreate()"
      ],
      "metadata": {
        "id": "6aALkhGg2KQO"
      },
      "execution_count": 5,
      "outputs": []
    },
    {
      "cell_type": "code",
      "source": [
        "series_df = s1.createDataFrame(data,schema)"
      ],
      "metadata": {
        "id": "3OWzQ60u2KTu"
      },
      "execution_count": 11,
      "outputs": []
    },
    {
      "cell_type": "code",
      "source": [
        "series_df.show()"
      ],
      "metadata": {
        "id": "ISuwJQm_2KXL",
        "outputId": "d5f6cab8-cc2e-4369-f71b-d77101436030",
        "colab": {
          "base_uri": "https://localhost:8080/"
        }
      },
      "execution_count": 12,
      "outputs": [
        {
          "output_type": "stream",
          "name": "stdout",
          "text": [
            "+-------+-------------+------+-------------------+--------+-------------+\n",
            "|user_id|       series|season|          timestamp|   genre|duration_mins|\n",
            "+-------+-------------+------+-------------------+--------+-------------+\n",
            "|    521|     Mirzapur|     3|2024-07-30 15:00:00|  action|          300|\n",
            "|    672|    Panchayat|     3|2024-07-30 15:00:00|  comedy|          200|\n",
            "|    197|   Family Man|     2|2024-07-30 15:00:00|  action|          500|\n",
            "|    521|     Mirzapur|     2|2024-07-29 15:00:00|  action|          280|\n",
            "|    211|Queens Gambit|     1|2024-07-30 15:00:00|   drama|          170|\n",
            "|    521|     Mirzapur|     1|2024-07-28 15:00:00|  action|          230|\n",
            "|    844|    Westworld|     3|2024-07-30 15:00:00|  sci-fi|          310|\n",
            "|    672|    Panchayat|     3|2024-07-29 15:00:00|  comedy|          210|\n",
            "|    256|   Homecoming|     2|2024-07-30 15:00:00|thriller|          310|\n",
            "|    489|  Outer Range|     1|2024-07-30 15:00:00|  sci-fi|          340|\n",
            "|    200| Black Mirror|     2|2024-07-30 15:00:00|  sci-fi|          140|\n",
            "|    256|  Outer Range|     2|2024-07-30 15:00:00|thriller|          250|\n",
            "|    489|  Outer Range|     2|2024-07-28 15:00:00|  sci-fi|          170|\n",
            "|    200| Black Mirror|     3|2024-07-29 15:00:00|  sci-fi|          190|\n",
            "|    672|    Panchayat|     2|2024-07-28 15:00:00|  comedy|          160|\n",
            "|    672|  Outer Range|     1|2024-07-25 15:00:00|  sci-fi|          250|\n",
            "|    200| Black Mirror|     4|2024-07-28 15:00:00|  sci-fi|          200|\n",
            "|    844|    Westworld|     2|2024-07-29 15:00:00|  sci-fi|          300|\n",
            "|    672| Black Mirror|     5|2024-07-28 15:00:00|  sci-fi|          150|\n",
            "|    672|    Panchayat|     1|2024-07-27 15:00:00|  comedy|          190|\n",
            "+-------+-------------+------+-------------------+--------+-------------+\n",
            "\n"
          ]
        }
      ]
    },
    {
      "cell_type": "code",
      "source": [
        "#Find the user with maximum watchtime\n",
        "series_df.groupBy('user_id').agg({'duration_mins':'sum'}).orderBy('sum(duration_mins)',ascending = False).show()"
      ],
      "metadata": {
        "id": "AjlfNtLM2Kaz",
        "outputId": "92b0dbdb-e6a0-4dd9-9786-02ac869e135b",
        "colab": {
          "base_uri": "https://localhost:8080/"
        }
      },
      "execution_count": 13,
      "outputs": [
        {
          "output_type": "stream",
          "name": "stdout",
          "text": [
            "+-------+------------------+\n",
            "|user_id|sum(duration_mins)|\n",
            "+-------+------------------+\n",
            "|    672|              1160|\n",
            "|    521|               810|\n",
            "|    844|               610|\n",
            "|    256|               560|\n",
            "|    200|               530|\n",
            "|    489|               510|\n",
            "|    197|               500|\n",
            "|    211|               170|\n",
            "+-------+------------------+\n",
            "\n"
          ]
        }
      ]
    },
    {
      "cell_type": "code",
      "source": [
        "#Calculate overall total Watchtime\n",
        "series_df.agg({'duration_mins':'sum'}).show()"
      ],
      "metadata": {
        "id": "r5lZhDpi2KdD",
        "outputId": "d43c7a0c-7b93-4f13-dcfa-709810462f66",
        "colab": {
          "base_uri": "https://localhost:8080/"
        }
      },
      "execution_count": 14,
      "outputs": [
        {
          "output_type": "stream",
          "name": "stdout",
          "text": [
            "+------------------+\n",
            "|sum(duration_mins)|\n",
            "+------------------+\n",
            "|              4850|\n",
            "+------------------+\n",
            "\n"
          ]
        }
      ]
    },
    {
      "cell_type": "code",
      "source": [
        "#Find most popular shows (based on watchtime)\n",
        "series_df.groupBy('series').agg({'duration_mins':'sum'}).orderBy('sum(duration_mins)',ascending = False).show()"
      ],
      "metadata": {
        "id": "IsRRwCPc2Kem",
        "outputId": "b150fd35-9952-4479-e6f7-4c8e73a55854",
        "colab": {
          "base_uri": "https://localhost:8080/"
        }
      },
      "execution_count": 15,
      "outputs": [
        {
          "output_type": "stream",
          "name": "stdout",
          "text": [
            "+-------------+------------------+\n",
            "|       series|sum(duration_mins)|\n",
            "+-------------+------------------+\n",
            "|  Outer Range|              1010|\n",
            "|     Mirzapur|               810|\n",
            "|    Panchayat|               760|\n",
            "| Black Mirror|               680|\n",
            "|    Westworld|               610|\n",
            "|   Family Man|               500|\n",
            "|   Homecoming|               310|\n",
            "|Queens Gambit|               170|\n",
            "+-------------+------------------+\n",
            "\n"
          ]
        }
      ]
    },
    {
      "cell_type": "code",
      "source": [
        "#Find most popular shows (based on user popularity)\n",
        "series_df.groupBy('series').agg({'user_id':'count'}).orderBy('count(user_id)',ascending = False).show()"
      ],
      "metadata": {
        "id": "_N9A_HWR2Kgk",
        "outputId": "e810120b-1414-442e-b902-5208a3b70121",
        "colab": {
          "base_uri": "https://localhost:8080/"
        }
      },
      "execution_count": 16,
      "outputs": [
        {
          "output_type": "stream",
          "name": "stdout",
          "text": [
            "+-------------+--------------+\n",
            "|       series|count(user_id)|\n",
            "+-------------+--------------+\n",
            "|  Outer Range|             4|\n",
            "|    Panchayat|             4|\n",
            "| Black Mirror|             4|\n",
            "|     Mirzapur|             3|\n",
            "|    Westworld|             2|\n",
            "|   Family Man|             1|\n",
            "|   Homecoming|             1|\n",
            "|Queens Gambit|             1|\n",
            "+-------------+--------------+\n",
            "\n"
          ]
        }
      ]
    },
    {
      "cell_type": "code",
      "source": [
        "#Find the most popular genre\n",
        "series_df.groupBy('genre').agg({'genre':'count'}).orderBy('count(genre)',ascending = False).show()"
      ],
      "metadata": {
        "id": "EODqSTFU2Kh0",
        "outputId": "d247c3ec-ce68-4f8e-a13b-5d069d4c8a6f",
        "colab": {
          "base_uri": "https://localhost:8080/"
        }
      },
      "execution_count": 17,
      "outputs": [
        {
          "output_type": "stream",
          "name": "stdout",
          "text": [
            "+--------+------------+\n",
            "|   genre|count(genre)|\n",
            "+--------+------------+\n",
            "|  sci-fi|           9|\n",
            "|  action|           4|\n",
            "|  comedy|           4|\n",
            "|thriller|           2|\n",
            "|   drama|           1|\n",
            "+--------+------------+\n",
            "\n"
          ]
        }
      ]
    },
    {
      "cell_type": "code",
      "source": [
        "#Calculate total watchtime per user\n",
        "series_df.groupBy('user_id').agg({'duration_mins':'sum'}).orderBy('sum(duration_mins)',ascending = False).show()"
      ],
      "metadata": {
        "id": "c-a8XY6J2Kj7",
        "outputId": "332361af-137b-4082-f50e-49a80d96346e",
        "colab": {
          "base_uri": "https://localhost:8080/"
        }
      },
      "execution_count": 18,
      "outputs": [
        {
          "output_type": "stream",
          "name": "stdout",
          "text": [
            "+-------+------------------+\n",
            "|user_id|sum(duration_mins)|\n",
            "+-------+------------------+\n",
            "|    672|              1160|\n",
            "|    521|               810|\n",
            "|    844|               610|\n",
            "|    256|               560|\n",
            "|    200|               530|\n",
            "|    489|               510|\n",
            "|    197|               500|\n",
            "|    211|               170|\n",
            "+-------+------------------+\n",
            "\n"
          ]
        }
      ]
    },
    {
      "cell_type": "code",
      "source": [
        "#Find most popular genre (based on engagement count)\n",
        "series_df.groupBy(['genre']).agg({'timestamp':'count'}).orderBy('count(timestamp)',ascending = False).show()"
      ],
      "metadata": {
        "id": "ia4WB3642Kry",
        "outputId": "3cad8811-51de-4c7f-d661-97650d0f074a",
        "colab": {
          "base_uri": "https://localhost:8080/"
        }
      },
      "execution_count": 19,
      "outputs": [
        {
          "output_type": "stream",
          "name": "stdout",
          "text": [
            "+--------+----------------+\n",
            "|   genre|count(timestamp)|\n",
            "+--------+----------------+\n",
            "|  sci-fi|               9|\n",
            "|  action|               4|\n",
            "|  comedy|               4|\n",
            "|thriller|               2|\n",
            "|   drama|               1|\n",
            "+--------+----------------+\n",
            "\n"
          ]
        }
      ]
    },
    {
      "cell_type": "code",
      "source": [
        "#Find average watchtime per genre\n",
        "series_df.groupBy('genre').agg({'duration_mins':'avg'}).show()"
      ],
      "metadata": {
        "id": "N-wpUeCC2Kto",
        "outputId": "d11f44cf-8b8a-470b-f608-f7ed5e11ea77",
        "colab": {
          "base_uri": "https://localhost:8080/"
        }
      },
      "execution_count": 20,
      "outputs": [
        {
          "output_type": "stream",
          "name": "stdout",
          "text": [
            "+--------+------------------+\n",
            "|   genre|avg(duration_mins)|\n",
            "+--------+------------------+\n",
            "|  action|             327.5|\n",
            "|   drama|             170.0|\n",
            "|thriller|             280.0|\n",
            "|  sci-fi|227.77777777777777|\n",
            "|  comedy|             190.0|\n",
            "+--------+------------------+\n",
            "\n"
          ]
        }
      ]
    },
    {
      "cell_type": "code",
      "source": [
        "#(Output 2 = Only Day)\n",
        "series_df.groupBy(dayofmonth('timestamp')).agg({'timestamp':'count'}).orderBy('count(timestamp)',ascending = False).show()"
      ],
      "metadata": {
        "id": "QNW8-4rOjJeQ",
        "outputId": "f6e7e121-32ac-469f-cb62-0fca358120aa",
        "colab": {
          "base_uri": "https://localhost:8080/"
        }
      },
      "execution_count": 27,
      "outputs": [
        {
          "output_type": "stream",
          "name": "stdout",
          "text": [
            "+---------------------+----------------+\n",
            "|dayofmonth(timestamp)|count(timestamp)|\n",
            "+---------------------+----------------+\n",
            "|                   30|               9|\n",
            "|                   28|               5|\n",
            "|                   29|               4|\n",
            "|                   27|               1|\n",
            "|                   25|               1|\n",
            "+---------------------+----------------+\n",
            "\n"
          ]
        }
      ]
    },
    {
      "cell_type": "code",
      "source": [
        "#Find peak traffic days\n",
        "#(Output 1 = Full Date)\n",
        "df1 = series_df.groupBy(to_date('timestamp')).agg({'timestamp':'count'}).orderBy('count(timestamp)',ascending = False)\n",
        "df1.select('to_date(timestamp)')"
      ],
      "metadata": {
        "id": "sGVMkDri2Kux",
        "outputId": "c53d2910-0ae8-4ebd-eca0-0be02e77dfe2",
        "colab": {
          "base_uri": "https://localhost:8080/"
        }
      },
      "execution_count": 26,
      "outputs": [
        {
          "output_type": "stream",
          "name": "stdout",
          "text": [
            "+------------------+----------------+\n",
            "|to_date(timestamp)|count(timestamp)|\n",
            "+------------------+----------------+\n",
            "|        2024-07-30|               9|\n",
            "|        2024-07-28|               5|\n",
            "|        2024-07-29|               4|\n",
            "|        2024-07-25|               1|\n",
            "|        2024-07-27|               1|\n",
            "+------------------+----------------+\n",
            "\n"
          ]
        }
      ]
    },
    {
      "cell_type": "code",
      "source": [
        "#Find the user with most diverse show preference\n",
        "series_df.groupBy('user_id').agg(countDistinct('genre')).show()"
      ],
      "metadata": {
        "id": "PERMz8pU2KyP",
        "outputId": "a51f2bd1-7fc8-4bb5-e294-e7acd2ee926c",
        "colab": {
          "base_uri": "https://localhost:8080/"
        }
      },
      "execution_count": 28,
      "outputs": [
        {
          "output_type": "stream",
          "name": "stdout",
          "text": [
            "+-------+---------------------+\n",
            "|user_id|count(DISTINCT genre)|\n",
            "+-------+---------------------+\n",
            "|    844|                    1|\n",
            "|    521|                    1|\n",
            "|    197|                    1|\n",
            "|    200|                    1|\n",
            "|    672|                    2|\n",
            "|    256|                    1|\n",
            "|    489|                    1|\n",
            "|    211|                    1|\n",
            "+-------+---------------------+\n",
            "\n"
          ]
        }
      ]
    },
    {
      "cell_type": "code",
      "source": [
        "series_df.show()"
      ],
      "metadata": {
        "id": "EBYtKIoIfuFp",
        "outputId": "042afb10-5597-4b23-f49e-575e7897eeba",
        "colab": {
          "base_uri": "https://localhost:8080/"
        }
      },
      "execution_count": 29,
      "outputs": [
        {
          "output_type": "stream",
          "name": "stdout",
          "text": [
            "+-------+-------------+------+-------------------+--------+-------------+\n",
            "|user_id|       series|season|          timestamp|   genre|duration_mins|\n",
            "+-------+-------------+------+-------------------+--------+-------------+\n",
            "|    521|     Mirzapur|     3|2024-07-30 15:00:00|  action|          300|\n",
            "|    672|    Panchayat|     3|2024-07-30 15:00:00|  comedy|          200|\n",
            "|    197|   Family Man|     2|2024-07-30 15:00:00|  action|          500|\n",
            "|    521|     Mirzapur|     2|2024-07-29 15:00:00|  action|          280|\n",
            "|    211|Queens Gambit|     1|2024-07-30 15:00:00|   drama|          170|\n",
            "|    521|     Mirzapur|     1|2024-07-28 15:00:00|  action|          230|\n",
            "|    844|    Westworld|     3|2024-07-30 15:00:00|  sci-fi|          310|\n",
            "|    672|    Panchayat|     3|2024-07-29 15:00:00|  comedy|          210|\n",
            "|    256|   Homecoming|     2|2024-07-30 15:00:00|thriller|          310|\n",
            "|    489|  Outer Range|     1|2024-07-30 15:00:00|  sci-fi|          340|\n",
            "|    200| Black Mirror|     2|2024-07-30 15:00:00|  sci-fi|          140|\n",
            "|    256|  Outer Range|     2|2024-07-30 15:00:00|thriller|          250|\n",
            "|    489|  Outer Range|     2|2024-07-28 15:00:00|  sci-fi|          170|\n",
            "|    200| Black Mirror|     3|2024-07-29 15:00:00|  sci-fi|          190|\n",
            "|    672|    Panchayat|     2|2024-07-28 15:00:00|  comedy|          160|\n",
            "|    672|  Outer Range|     1|2024-07-25 15:00:00|  sci-fi|          250|\n",
            "|    200| Black Mirror|     4|2024-07-28 15:00:00|  sci-fi|          200|\n",
            "|    844|    Westworld|     2|2024-07-29 15:00:00|  sci-fi|          300|\n",
            "|    672| Black Mirror|     5|2024-07-28 15:00:00|  sci-fi|          150|\n",
            "|    672|    Panchayat|     1|2024-07-27 15:00:00|  comedy|          190|\n",
            "+-------+-------------+------+-------------------+--------+-------------+\n",
            "\n"
          ]
        }
      ]
    },
    {
      "cell_type": "code",
      "source": [
        "#Find the binge-watchers\n",
        "df1=series_df.groupBy('user_id','timestamp','series').agg(count('season').alias('count')).orderBy('user_id')\n",
        "df2=series_df.groupBy('series').agg(max('season').alias('max'))\n",
        "df3=df1.join(df2,'series','inner')\n",
        "df3.show()\n",
        "df3.filter(col('count')==col('max')).collect()[0][1]"
      ],
      "metadata": {
        "id": "1jbpjJaj2KzM",
        "outputId": "9db80c12-16f8-4683-8f14-07a4a66399e2",
        "colab": {
          "base_uri": "https://localhost:8080/"
        }
      },
      "execution_count": 36,
      "outputs": [
        {
          "output_type": "stream",
          "name": "stdout",
          "text": [
            "+-------------+-------+-------------------+-----+---+\n",
            "|       series|user_id|          timestamp|count|max|\n",
            "+-------------+-------+-------------------+-----+---+\n",
            "|  Outer Range|    672|2024-07-25 15:00:00|    1|  2|\n",
            "|  Outer Range|    256|2024-07-30 15:00:00|    1|  2|\n",
            "|  Outer Range|    489|2024-07-28 15:00:00|    1|  2|\n",
            "|  Outer Range|    489|2024-07-30 15:00:00|    1|  2|\n",
            "|    Westworld|    844|2024-07-29 15:00:00|    1|  3|\n",
            "|    Westworld|    844|2024-07-30 15:00:00|    1|  3|\n",
            "|   Family Man|    197|2024-07-30 15:00:00|    1|  2|\n",
            "|   Homecoming|    256|2024-07-30 15:00:00|    1|  2|\n",
            "|     Mirzapur|    521|2024-07-29 15:00:00|    1|  3|\n",
            "|     Mirzapur|    521|2024-07-28 15:00:00|    1|  3|\n",
            "|     Mirzapur|    521|2024-07-30 15:00:00|    1|  3|\n",
            "|    Panchayat|    672|2024-07-28 15:00:00|    1|  3|\n",
            "|    Panchayat|    672|2024-07-27 15:00:00|    1|  3|\n",
            "|    Panchayat|    672|2024-07-29 15:00:00|    1|  3|\n",
            "|    Panchayat|    672|2024-07-30 15:00:00|    1|  3|\n",
            "|Queens Gambit|    211|2024-07-30 15:00:00|    1|  1|\n",
            "| Black Mirror|    200|2024-07-30 15:00:00|    1|  5|\n",
            "| Black Mirror|    200|2024-07-29 15:00:00|    1|  5|\n",
            "| Black Mirror|    200|2024-07-28 15:00:00|    1|  5|\n",
            "| Black Mirror|    672|2024-07-28 15:00:00|    1|  5|\n",
            "+-------------+-------+-------------------+-----+---+\n",
            "\n"
          ]
        },
        {
          "output_type": "execute_result",
          "data": {
            "text/plain": [
              "211"
            ]
          },
          "metadata": {},
          "execution_count": 36
        }
      ]
    },
    {
      "cell_type": "code",
      "source": [
        "#Find the user with longest watching streak\n",
        "series_df.orderBy('duration_mins',ascending = False).first()[0]"
      ],
      "metadata": {
        "id": "bvJNmisf2K29",
        "outputId": "b192937a-5e86-41a0-f7d0-1a8db923fd5c",
        "colab": {
          "base_uri": "https://localhost:8080/"
        }
      },
      "execution_count": null,
      "outputs": [
        {
          "output_type": "execute_result",
          "data": {
            "text/plain": [
              "197"
            ]
          },
          "metadata": {},
          "execution_count": 46
        }
      ]
    },
    {
      "cell_type": "code",
      "source": [
        "#Total Seasons available\n",
        "series_df.groupBy('series').agg({'season':'max'}).show()"
      ],
      "metadata": {
        "id": "1Zr1unmL2K4d",
        "outputId": "f466be3a-feda-40e9-80f2-e9072fd75855",
        "colab": {
          "base_uri": "https://localhost:8080/"
        }
      },
      "execution_count": 31,
      "outputs": [
        {
          "output_type": "stream",
          "name": "stdout",
          "text": [
            "+-------------+-----------+\n",
            "|       series|max(season)|\n",
            "+-------------+-----------+\n",
            "|  Outer Range|          2|\n",
            "|    Westworld|          3|\n",
            "|   Family Man|          2|\n",
            "|   Homecoming|          2|\n",
            "|     Mirzapur|          3|\n",
            "|    Panchayat|          3|\n",
            "|Queens Gambit|          1|\n",
            "| Black Mirror|          5|\n",
            "+-------------+-----------+\n",
            "\n"
          ]
        }
      ]
    },
    {
      "cell_type": "code",
      "source": [
        "#Fetch a list of all series\n",
        "series_df.rdd.flatMap(lambda x:[x[1]]).distinct().collect()\n"
      ],
      "metadata": {
        "id": "7JVWEWD3-LVN",
        "outputId": "fafdd3cb-4a53-46c4-cbee-cf67727b5c3c",
        "colab": {
          "base_uri": "https://localhost:8080/"
        }
      },
      "execution_count": 30,
      "outputs": [
        {
          "output_type": "execute_result",
          "data": {
            "text/plain": [
              "['Mirzapur',\n",
              " 'Family Man',\n",
              " 'Queens Gambit',\n",
              " 'Westworld',\n",
              " 'Homecoming',\n",
              " 'Panchayat',\n",
              " 'Outer Range',\n",
              " 'Black Mirror']"
            ]
          },
          "metadata": {},
          "execution_count": 30
        }
      ]
    },
    {
      "cell_type": "code",
      "source": [],
      "metadata": {
        "id": "T3-xmb91-ksI"
      },
      "execution_count": null,
      "outputs": []
    }
  ],
  "metadata": {
    "colab": {
      "name": "Welcome To Colab",
      "provenance": []
    },
    "kernelspec": {
      "display_name": "Python 3",
      "name": "python3"
    }
  },
  "nbformat": 4,
  "nbformat_minor": 0
}