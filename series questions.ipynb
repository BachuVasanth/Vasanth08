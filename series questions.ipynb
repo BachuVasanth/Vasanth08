{
  "cells": [
    {
      "cell_type": "code",
      "source": [
        "pip install pyspark"
      ],
      "metadata": {
        "id": "uq2iJPSF2J3S",
        "outputId": "2d9ae6c7-3cea-495e-a83e-cf337bbba137",
        "colab": {
          "base_uri": "https://localhost:8080/"
        }
      },
      "execution_count": 1,
      "outputs": [
        {
          "output_type": "stream",
          "name": "stdout",
          "text": [
            "Collecting pyspark\n",
            "  Downloading pyspark-3.5.1.tar.gz (317.0 MB)\n",
            "\u001b[2K     \u001b[90m━━━━━━━━━━━━━━━━━━━━━━━━━━━━━━━━━━━━━━━━\u001b[0m \u001b[32m317.0/317.0 MB\u001b[0m \u001b[31m4.2 MB/s\u001b[0m eta \u001b[36m0:00:00\u001b[0m\n",
            "\u001b[?25h  Preparing metadata (setup.py) ... \u001b[?25l\u001b[?25hdone\n",
            "Requirement already satisfied: py4j==0.10.9.7 in /usr/local/lib/python3.10/dist-packages (from pyspark) (0.10.9.7)\n",
            "Building wheels for collected packages: pyspark\n",
            "  Building wheel for pyspark (setup.py) ... \u001b[?25l\u001b[?25hdone\n",
            "  Created wheel for pyspark: filename=pyspark-3.5.1-py2.py3-none-any.whl size=317488490 sha256=a17cb67c5e4b2176267b5a04cba5af1e38df726699807eb1bc2722e7eb592c2c\n",
            "  Stored in directory: /root/.cache/pip/wheels/80/1d/60/2c256ed38dddce2fdd93be545214a63e02fbd8d74fb0b7f3a6\n",
            "Successfully built pyspark\n",
            "Installing collected packages: pyspark\n",
            "Successfully installed pyspark-3.5.1\n"
          ]
        }
      ]
    },
    {
      "cell_type": "code",
      "source": [
        "from pyspark.sql import SparkSession\n",
        "from pyspark.sql.functions import *"
      ],
      "metadata": {
        "id": "g-X9iDBQ2KDT"
      },
      "execution_count": 2,
      "outputs": []
    },
    {
      "cell_type": "code",
      "source": [
        "#user_data\n",
        "data = [\n",
        "(521,'Mirzapur',3,'2024-07-30 15:00:00','action',300),\n",
        "(672,'Panchayat',3,'2024-07-30 15:00:00','comedy',200),\n",
        "(197,'Family Man',2,'2024-07-30 15:00:00','action',500),\n",
        "(521,'Mirzapur',2,'2024-07-29 15:00:00','action',280),\n",
        "(211,'Queens Gambit',1,'2024-07-30 15:00:00','drama',170),\n",
        "(521,'Mirzapur',1,'2024-07-28 15:00:00','action',230),\n",
        "(844,'Westworld',3,'2024-07-30 15:00:00','sci-fi',310),\n",
        "(672,'Panchayat',3,'2024-07-29 15:00:00','comedy',210),\n",
        "(256,'Homecoming',2,'2024-07-30 15:00:00','thriller',310),\n",
        "(489,'Outer Range',1,'2024-07-30 15:00:00','sci-fi',340),\n",
        "(200,'Black Mirror',2,'2024-07-30 15:00:00','sci-fi',140),\n",
        "(256,'Outer Range',2,'2024-07-30 15:00:00','thriller',250),\n",
        "(489,'Outer Rang',2,'2024-07-28 15:00:00','sci-fi',170),\n",
        "(200,'Black Mirror',3,'2024-07-29 15:00:00','sci-fi',190),\n",
        "(672,'Panchayat',2,'2024-07-28 15:00:00','comedy',160),\n",
        "(672,'Outer Range',1,'2024-07-25 15:00:00','sci-fi',250),\n",
        "(200,'Black Mirror',4,'2024-07-28 15:00:00','sci-fi',200),\n",
        "(844,'Westworld',2,'2024-07-29 15:00:00','sci-fi',300),\n",
        "(672,'Black Mirror',5,'2024-07-28 15:00:00','sci-fi',15),\n",
        "(672,'Panchayat',1,'2024-07-27 15:00:00','comedy',190)\n",
        "]"
      ],
      "metadata": {
        "id": "vGFxDfYE2KIy"
      },
      "execution_count": 3,
      "outputs": []
    },
    {
      "cell_type": "code",
      "source": [
        "schema = ['user_id','series','season','timestamp','genre','duration_mins']"
      ],
      "metadata": {
        "id": "5YV50urW2KNB"
      },
      "execution_count": 4,
      "outputs": []
    },
    {
      "cell_type": "code",
      "source": [
        "s1 = SparkSession.builder.appName('Streaming Analysis').getOrCreate()"
      ],
      "metadata": {
        "id": "6aALkhGg2KQO"
      },
      "execution_count": 6,
      "outputs": []
    },
    {
      "cell_type": "code",
      "source": [
        "series_df = s1.createDataFrame(data,schema)"
      ],
      "metadata": {
        "id": "3OWzQ60u2KTu"
      },
      "execution_count": 7,
      "outputs": []
    },
    {
      "cell_type": "code",
      "source": [
        "series_df.show()"
      ],
      "metadata": {
        "id": "ISuwJQm_2KXL",
        "outputId": "f812237a-f1e6-4b54-c7d0-e3333340f330",
        "colab": {
          "base_uri": "https://localhost:8080/"
        }
      },
      "execution_count": 8,
      "outputs": [
        {
          "output_type": "stream",
          "name": "stdout",
          "text": [
            "+-------+-------------+------+-------------------+--------+-------------+\n",
            "|user_id|       series|season|          timestamp|   genre|duration_mins|\n",
            "+-------+-------------+------+-------------------+--------+-------------+\n",
            "|    521|     Mirzapur|     3|2024-07-30 15:00:00|  action|          300|\n",
            "|    672|    Panchayat|     3|2024-07-30 15:00:00|  comedy|          200|\n",
            "|    197|   Family Man|     2|2024-07-30 15:00:00|  action|          500|\n",
            "|    521|     Mirzapur|     2|2024-07-29 15:00:00|  action|          280|\n",
            "|    211|Queens Gambit|     1|2024-07-30 15:00:00|   drama|          170|\n",
            "|    521|     Mirzapur|     1|2024-07-28 15:00:00|  action|          230|\n",
            "|    844|    Westworld|     3|2024-07-30 15:00:00|  sci-fi|          310|\n",
            "|    672|    Panchayat|     3|2024-07-29 15:00:00|  comedy|          210|\n",
            "|    256|   Homecoming|     2|2024-07-30 15:00:00|thriller|          310|\n",
            "|    489|  Outer Range|     1|2024-07-30 15:00:00|  sci-fi|          340|\n",
            "|    200| Black Mirror|     2|2024-07-30 15:00:00|  sci-fi|          140|\n",
            "|    256|  Outer Range|     2|2024-07-30 15:00:00|thriller|          250|\n",
            "|    489|   Outer Rang|     2|2024-07-28 15:00:00|  sci-fi|          170|\n",
            "|    200| Black Mirror|     3|2024-07-29 15:00:00|  sci-fi|          190|\n",
            "|    672|    Panchayat|     2|2024-07-28 15:00:00|  comedy|          160|\n",
            "|    672|  Outer Range|     1|2024-07-25 15:00:00|  sci-fi|          250|\n",
            "|    200| Black Mirror|     4|2024-07-28 15:00:00|  sci-fi|          200|\n",
            "|    844|    Westworld|     2|2024-07-29 15:00:00|  sci-fi|          300|\n",
            "|    672| Black Mirror|     5|2024-07-28 15:00:00|  sci-fi|           15|\n",
            "|    672|    Panchayat|     1|2024-07-27 15:00:00|  comedy|          190|\n",
            "+-------+-------------+------+-------------------+--------+-------------+\n",
            "\n"
          ]
        }
      ]
    },
    {
      "cell_type": "code",
      "source": [
        "#Find the user with maximum watchtime\n",
        "series_df.groupBy('user_id').agg({'duration_mins':'sum'}).orderBy('sum(duration_mins)',ascending = False).limit(1).show()"
      ],
      "metadata": {
        "id": "AjlfNtLM2Kaz",
        "outputId": "44fd15d0-a288-4d60-b892-d083bf4df40d",
        "colab": {
          "base_uri": "https://localhost:8080/"
        }
      },
      "execution_count": 27,
      "outputs": [
        {
          "output_type": "stream",
          "name": "stdout",
          "text": [
            "+-------+------------------+\n",
            "|user_id|sum(duration_mins)|\n",
            "+-------+------------------+\n",
            "|    672|              1025|\n",
            "+-------+------------------+\n",
            "\n"
          ]
        }
      ]
    },
    {
      "cell_type": "code",
      "source": [
        "#Calculate overall total Watchtime\n",
        "series_df.agg({'duration_mins':'sum'}).show()"
      ],
      "metadata": {
        "id": "r5lZhDpi2KdD",
        "outputId": "3befbce9-299c-4f6a-a2db-cb9faf558172",
        "colab": {
          "base_uri": "https://localhost:8080/"
        }
      },
      "execution_count": 28,
      "outputs": [
        {
          "output_type": "stream",
          "name": "stdout",
          "text": [
            "+------------------+\n",
            "|sum(duration_mins)|\n",
            "+------------------+\n",
            "|              4715|\n",
            "+------------------+\n",
            "\n"
          ]
        }
      ]
    },
    {
      "cell_type": "code",
      "source": [
        "#Find most popular shows (based on watchtime)\n",
        "series_df.groupBy('series').agg({'duration_mins':'sum'}).orderBy('sum(duration_mins)',ascending = False).show()"
      ],
      "metadata": {
        "id": "IsRRwCPc2Kem",
        "outputId": "0afd2f85-af77-4d01-a1a3-1f972761493d",
        "colab": {
          "base_uri": "https://localhost:8080/"
        }
      },
      "execution_count": 19,
      "outputs": [
        {
          "output_type": "stream",
          "name": "stdout",
          "text": [
            "+-------------+------------------+\n",
            "|       series|sum(duration_mins)|\n",
            "+-------------+------------------+\n",
            "|  Outer Range|               840|\n",
            "|     Mirzapur|               810|\n",
            "|    Panchayat|               760|\n",
            "|    Westworld|               610|\n",
            "| Black Mirror|               545|\n",
            "|   Family Man|               500|\n",
            "|   Homecoming|               310|\n",
            "|Queens Gambit|               170|\n",
            "|   Outer Rang|               170|\n",
            "+-------------+------------------+\n",
            "\n"
          ]
        }
      ]
    },
    {
      "cell_type": "code",
      "source": [
        "#Find most popular shows (based on user popularity)\n",
        "series_df.groupBy('series').agg({'user_id':'count'}).orderBy('count(user_id)',ascending = False).show()"
      ],
      "metadata": {
        "id": "_N9A_HWR2Kgk",
        "outputId": "3c699d99-959a-4c97-8b96-642b5da958bb",
        "colab": {
          "base_uri": "https://localhost:8080/"
        }
      },
      "execution_count": 20,
      "outputs": [
        {
          "output_type": "stream",
          "name": "stdout",
          "text": [
            "+-------------+--------------+\n",
            "|       series|count(user_id)|\n",
            "+-------------+--------------+\n",
            "|    Panchayat|             4|\n",
            "| Black Mirror|             4|\n",
            "|  Outer Range|             3|\n",
            "|     Mirzapur|             3|\n",
            "|    Westworld|             2|\n",
            "|   Family Man|             1|\n",
            "|   Homecoming|             1|\n",
            "|Queens Gambit|             1|\n",
            "|   Outer Rang|             1|\n",
            "+-------------+--------------+\n",
            "\n"
          ]
        }
      ]
    },
    {
      "cell_type": "code",
      "source": [
        "#Find the most popular genre\n",
        "series_df.groupBy('genre').agg({'genre':'count'}).orderBy('count(genre)',ascending = False).show()"
      ],
      "metadata": {
        "id": "EODqSTFU2Kh0",
        "outputId": "dc5a6419-7681-4881-c3a4-0fd5ec7c59bf",
        "colab": {
          "base_uri": "https://localhost:8080/"
        }
      },
      "execution_count": 25,
      "outputs": [
        {
          "output_type": "stream",
          "name": "stdout",
          "text": [
            "+--------+------------+\n",
            "|   genre|count(genre)|\n",
            "+--------+------------+\n",
            "|  sci-fi|           9|\n",
            "|  action|           4|\n",
            "|  comedy|           4|\n",
            "|thriller|           2|\n",
            "|   drama|           1|\n",
            "+--------+------------+\n",
            "\n"
          ]
        }
      ]
    },
    {
      "cell_type": "code",
      "source": [
        "#Calculate total watchtime per user\n",
        "series_df.groupBy('user_id').agg({'duration_mins':'sum'}).orderBy('sum(duration_mins)',ascending = False).show()"
      ],
      "metadata": {
        "id": "c-a8XY6J2Kj7",
        "outputId": "cb0cdb4a-73a3-46ee-ee5d-e85f33c55959",
        "colab": {
          "base_uri": "https://localhost:8080/"
        }
      },
      "execution_count": 26,
      "outputs": [
        {
          "output_type": "stream",
          "name": "stdout",
          "text": [
            "+-------+------------------+\n",
            "|user_id|sum(duration_mins)|\n",
            "+-------+------------------+\n",
            "|    672|              1025|\n",
            "|    521|               810|\n",
            "|    844|               610|\n",
            "|    256|               560|\n",
            "|    200|               530|\n",
            "|    489|               510|\n",
            "|    197|               500|\n",
            "|    211|               170|\n",
            "+-------+------------------+\n",
            "\n"
          ]
        }
      ]
    },
    {
      "cell_type": "code",
      "source": [
        "#Find most popular genre (based on engagement count)\n",
        "series_df.groupBy(['genre']).agg({'timestamp':'count'}).orderBy('count(timestamp)',ascending = False).show()"
      ],
      "metadata": {
        "id": "ia4WB3642Kry",
        "outputId": "3a289992-40a6-40a3-b59c-ee9913d5f384",
        "colab": {
          "base_uri": "https://localhost:8080/"
        }
      },
      "execution_count": 32,
      "outputs": [
        {
          "output_type": "stream",
          "name": "stdout",
          "text": [
            "+--------+----------------+\n",
            "|   genre|count(timestamp)|\n",
            "+--------+----------------+\n",
            "|  sci-fi|               9|\n",
            "|  action|               4|\n",
            "|  comedy|               4|\n",
            "|thriller|               2|\n",
            "|   drama|               1|\n",
            "+--------+----------------+\n",
            "\n"
          ]
        }
      ]
    },
    {
      "cell_type": "code",
      "source": [
        "#Find average watchtime per genre\n",
        "series_df.groupBy('genre').agg({'duration_mins':'avg'}).show()"
      ],
      "metadata": {
        "id": "N-wpUeCC2Kto",
        "outputId": "978e7459-fdcb-41e8-d2d3-977f74a818b5",
        "colab": {
          "base_uri": "https://localhost:8080/"
        }
      },
      "execution_count": 31,
      "outputs": [
        {
          "output_type": "stream",
          "name": "stdout",
          "text": [
            "+--------+------------------+\n",
            "|   genre|avg(duration_mins)|\n",
            "+--------+------------------+\n",
            "|  action|             327.5|\n",
            "|   drama|             170.0|\n",
            "|thriller|             280.0|\n",
            "|  sci-fi|212.77777777777777|\n",
            "|  comedy|             190.0|\n",
            "+--------+------------------+\n",
            "\n"
          ]
        }
      ]
    },
    {
      "cell_type": "code",
      "source": [
        "#(Output 2 = Only Day)\n",
        "series_df.groupBy('timestamp').agg({'timestamp':'count'}).orderBy('count(timestamp)',ascending = False).limit(1).collect()[0][0]"
      ],
      "metadata": {
        "id": "QNW8-4rOjJeQ",
        "outputId": "3acc27dc-a74b-4056-e3b4-c9c2b3b2fc8d",
        "colab": {
          "base_uri": "https://localhost:8080/",
          "height": 35
        }
      },
      "execution_count": 74,
      "outputs": [
        {
          "output_type": "execute_result",
          "data": {
            "text/plain": [
              "'2024-07-30 15:00:00'"
            ],
            "application/vnd.google.colaboratory.intrinsic+json": {
              "type": "string"
            }
          },
          "metadata": {},
          "execution_count": 74
        }
      ]
    },
    {
      "cell_type": "code",
      "source": [
        "#Find peak traffic days\n",
        "#(Output 1 = Full Date)\n",
        "series_df.groupBy('timestamp').agg({'timestamp':'count'}).orderBy('count(timestamp)',ascending = False).first()[0]\n"
      ],
      "metadata": {
        "id": "sGVMkDri2Kux",
        "outputId": "65bd3240-01eb-458a-fb70-5fd531337efd",
        "colab": {
          "base_uri": "https://localhost:8080/",
          "height": 35
        }
      },
      "execution_count": 71,
      "outputs": [
        {
          "output_type": "execute_result",
          "data": {
            "text/plain": [
              "'2024-07-30 15:00:00'"
            ],
            "application/vnd.google.colaboratory.intrinsic+json": {
              "type": "string"
            }
          },
          "metadata": {},
          "execution_count": 71
        }
      ]
    },
    {
      "cell_type": "code",
      "source": [
        "#Find the user with most diverse show preference\n",
        "series_df.groupBy('user_id').agg(countDistinct('series')).show()"
      ],
      "metadata": {
        "id": "PERMz8pU2KyP",
        "outputId": "17ff1f30-5160-46d3-f5d6-73092cb454b5",
        "colab": {
          "base_uri": "https://localhost:8080/"
        }
      },
      "execution_count": 75,
      "outputs": [
        {
          "output_type": "stream",
          "name": "stdout",
          "text": [
            "+-------+----------------------+\n",
            "|user_id|count(DISTINCT series)|\n",
            "+-------+----------------------+\n",
            "|    844|                     1|\n",
            "|    521|                     1|\n",
            "|    197|                     1|\n",
            "|    200|                     1|\n",
            "|    672|                     3|\n",
            "|    256|                     2|\n",
            "|    489|                     2|\n",
            "|    211|                     1|\n",
            "+-------+----------------------+\n",
            "\n"
          ]
        }
      ]
    },
    {
      "cell_type": "code",
      "source": [
        "series_df.show()"
      ],
      "metadata": {
        "id": "EBYtKIoIfuFp",
        "outputId": "f1431e6f-1cee-4bec-c7ce-ba129749e672",
        "colab": {
          "base_uri": "https://localhost:8080/"
        }
      },
      "execution_count": 68,
      "outputs": [
        {
          "output_type": "stream",
          "name": "stdout",
          "text": [
            "+-------+-------------+------+-------------------+--------+-------------+\n",
            "|user_id|       series|season|          timestamp|   genre|duration_mins|\n",
            "+-------+-------------+------+-------------------+--------+-------------+\n",
            "|    521|     Mirzapur|     3|2024-07-30 15:00:00|  action|          300|\n",
            "|    672|    Panchayat|     3|2024-07-30 15:00:00|  comedy|          200|\n",
            "|    197|   Family Man|     2|2024-07-30 15:00:00|  action|          500|\n",
            "|    521|     Mirzapur|     2|2024-07-29 15:00:00|  action|          280|\n",
            "|    211|Queens Gambit|     1|2024-07-30 15:00:00|   drama|          170|\n",
            "|    521|     Mirzapur|     1|2024-07-28 15:00:00|  action|          230|\n",
            "|    844|    Westworld|     3|2024-07-30 15:00:00|  sci-fi|          310|\n",
            "|    672|    Panchayat|     3|2024-07-29 15:00:00|  comedy|          210|\n",
            "|    256|   Homecoming|     2|2024-07-30 15:00:00|thriller|          310|\n",
            "|    489|  Outer Range|     1|2024-07-30 15:00:00|  sci-fi|          340|\n",
            "|    200| Black Mirror|     2|2024-07-30 15:00:00|  sci-fi|          140|\n",
            "|    256|  Outer Range|     2|2024-07-30 15:00:00|thriller|          250|\n",
            "|    489|   Outer Rang|     2|2024-07-28 15:00:00|  sci-fi|          170|\n",
            "|    200| Black Mirror|     3|2024-07-29 15:00:00|  sci-fi|          190|\n",
            "|    672|    Panchayat|     2|2024-07-28 15:00:00|  comedy|          160|\n",
            "|    672|  Outer Range|     1|2024-07-25 15:00:00|  sci-fi|          250|\n",
            "|    200| Black Mirror|     4|2024-07-28 15:00:00|  sci-fi|          200|\n",
            "|    844|    Westworld|     2|2024-07-29 15:00:00|  sci-fi|          300|\n",
            "|    672| Black Mirror|     5|2024-07-28 15:00:00|  sci-fi|           15|\n",
            "|    672|    Panchayat|     1|2024-07-27 15:00:00|  comedy|          190|\n",
            "+-------+-------------+------+-------------------+--------+-------------+\n",
            "\n"
          ]
        }
      ]
    },
    {
      "cell_type": "code",
      "source": [
        "#Find the binge-watchers\n",
        "df1 = series_df.groupBy('series').agg(max('season'))\n",
        "series_df.where"
      ],
      "metadata": {
        "id": "1jbpjJaj2KzM",
        "outputId": "9479ee81-e616-49ab-9631-52f54c9d9f76",
        "colab": {
          "base_uri": "https://localhost:8080/"
        }
      },
      "execution_count": 69,
      "outputs": [
        {
          "output_type": "stream",
          "name": "stdout",
          "text": [
            "+-------------+-----------+\n",
            "|       series|max(season)|\n",
            "+-------------+-----------+\n",
            "|  Outer Range|          2|\n",
            "|    Westworld|          3|\n",
            "|   Family Man|          2|\n",
            "|   Homecoming|          2|\n",
            "|     Mirzapur|          3|\n",
            "|    Panchayat|          3|\n",
            "|Queens Gambit|          1|\n",
            "| Black Mirror|          5|\n",
            "|   Outer Rang|          2|\n",
            "+-------------+-----------+\n",
            "\n"
          ]
        }
      ]
    },
    {
      "cell_type": "code",
      "source": [
        "#Find the user with longest watching streak\n",
        "series_df.orderBy('duration_mins',ascending = False).first()[0]"
      ],
      "metadata": {
        "id": "bvJNmisf2K29",
        "outputId": "b192937a-5e86-41a0-f7d0-1a8db923fd5c",
        "colab": {
          "base_uri": "https://localhost:8080/"
        }
      },
      "execution_count": 46,
      "outputs": [
        {
          "output_type": "execute_result",
          "data": {
            "text/plain": [
              "197"
            ]
          },
          "metadata": {},
          "execution_count": 46
        }
      ]
    },
    {
      "cell_type": "code",
      "source": [
        "#Total Seasons available\n",
        "series_df.groupBy('series').agg({'season':'max'}).show()"
      ],
      "metadata": {
        "id": "1Zr1unmL2K4d",
        "outputId": "2fdfc640-2505-4986-ab9e-d1d3415035bc",
        "colab": {
          "base_uri": "https://localhost:8080/"
        }
      },
      "execution_count": 47,
      "outputs": [
        {
          "output_type": "stream",
          "name": "stdout",
          "text": [
            "+-------------+-----------+\n",
            "|       series|max(season)|\n",
            "+-------------+-----------+\n",
            "|  Outer Range|          2|\n",
            "|    Westworld|          3|\n",
            "|   Family Man|          2|\n",
            "|   Homecoming|          2|\n",
            "|     Mirzapur|          3|\n",
            "|    Panchayat|          3|\n",
            "|Queens Gambit|          1|\n",
            "| Black Mirror|          5|\n",
            "|   Outer Rang|          2|\n",
            "+-------------+-----------+\n",
            "\n"
          ]
        }
      ]
    },
    {
      "cell_type": "code",
      "source": [
        "#Fetch a list of all series\n",
        "series_df.rdd.flatMap(lambda x:[x[1]]).distinct().collect()\n"
      ],
      "metadata": {
        "id": "7JVWEWD3-LVN",
        "outputId": "7025bb7e-449c-4683-f3aa-0f30348c8ade",
        "colab": {
          "base_uri": "https://localhost:8080/"
        }
      },
      "execution_count": 24,
      "outputs": [
        {
          "output_type": "execute_result",
          "data": {
            "text/plain": [
              "['Mirzapur',\n",
              " 'Family Man',\n",
              " 'Queens Gambit',\n",
              " 'Westworld',\n",
              " 'Homecoming',\n",
              " 'Panchayat',\n",
              " 'Outer Range',\n",
              " 'Black Mirror',\n",
              " 'Outer Rang']"
            ]
          },
          "metadata": {},
          "execution_count": 24
        }
      ]
    },
    {
      "cell_type": "code",
      "source": [],
      "metadata": {
        "id": "T3-xmb91-ksI"
      },
      "execution_count": null,
      "outputs": []
    }
  ],
  "metadata": {
    "colab": {
      "name": "Welcome To Colab",
      "provenance": []
    },
    "kernelspec": {
      "display_name": "Python 3",
      "name": "python3"
    }
  },
  "nbformat": 4,
  "nbformat_minor": 0
}